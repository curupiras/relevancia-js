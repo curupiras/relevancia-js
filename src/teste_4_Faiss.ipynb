{
 "cells": [
  {
   "cell_type": "markdown",
   "id": "3ea67331",
   "metadata": {},
   "source": [
    "## 1. Instalando o Faiss"
   ]
  },
  {
   "cell_type": "code",
   "execution_count": 1,
   "id": "9a673d09",
   "metadata": {},
   "outputs": [],
   "source": [
    "#!pip install --trusted-host pypi.org --trusted-host files.pythonhosted.org faiss-cpu\n",
    "#!pip install faiss-gpu\n",
    "\n",
    "# CPU-only version\n",
    "#$ conda install -c pytorch faiss-cpu=1.8.0 --verbose -y\n",
    "\n",
    "# GPU(+CPU) version\n",
    "#$ conda install -c pytorch -c nvidia faiss-gpu=1.8.0\n",
    "\n",
    "# GPU(+CPU) version with NVIDIA RAFT\n",
    "#$ conda install -c pytorch -c nvidia -c rapidsai -c conda-forge faiss-gpu-raft=1.8.0"
   ]
  },
  {
   "cell_type": "markdown",
   "id": "bd82690d",
   "metadata": {},
   "source": [
    "## 2. Criando os vetores com os dados"
   ]
  },
  {
   "cell_type": "code",
   "execution_count": 26,
   "id": "534b703f",
   "metadata": {},
   "outputs": [],
   "source": [
    "import numpy as np\n",
    "\n",
    "# d é o tamanho dos vetores (embeddings)\n",
    "d = 1024                           # dimension\n",
    "\n",
    "# nb é a quantidade de vetores indexados no banco de dados\n",
    "nb = 16045                      # database size\n",
    "\n",
    "# nq é o número de queries\n",
    "nq = 150                       # nb of queries\n",
    "\n",
    "np.random.seed(1234)             # make reproducible\n",
    "\n",
    "# xb é a matriz que contem todos os vetores que serão indexados no banco. Tamanho nb x d.\n",
    "xb = np.random.random((nb, d)).astype('float32')\n",
    "xb[:, 0] += np.arange(nb) / 1000.\n",
    "\n",
    "#id_list é a lista de ids dos vetores em xb\n",
    "id_list = [x for x in range(nb, 0, -1)]\n",
    "\n",
    "# xq é a matriz que contém todos os vetores de queries. Tamanho nq x d\n",
    "xq = np.random.random((nq, d)).astype('float32')\n",
    "xq[:, 0] += np.arange(nq) / 1000."
   ]
  },
  {
   "cell_type": "code",
   "execution_count": 23,
   "id": "698a9541",
   "metadata": {},
   "outputs": [
    {
     "data": {
      "text/plain": [
       "array([[ 0.19151945,  0.62210876,  0.43772775, ...,  0.60382867,\n",
       "         0.18178934,  0.5190297 ],\n",
       "       [ 0.71115327,  0.9249804 ,  0.52913165, ...,  0.72927713,\n",
       "         0.4249684 ,  0.72562623],\n",
       "       [ 0.5900075 ,  0.13707106,  0.5647468 , ...,  0.89168775,\n",
       "         0.5799966 ,  0.72705346],\n",
       "       ...,\n",
       "       [16.464464  ,  0.2699034 ,  0.4109476 , ...,  0.44040364,\n",
       "         0.8484792 ,  0.49044716],\n",
       "       [16.318378  ,  0.6963395 ,  0.28584644, ...,  0.62822104,\n",
       "         0.45907068,  0.3205342 ],\n",
       "       [16.701004  ,  0.55168337,  0.59184545, ...,  0.86712843,\n",
       "         0.2974102 ,  0.06862216]], dtype=float32)"
      ]
     },
     "execution_count": 23,
     "metadata": {},
     "output_type": "execute_result"
    }
   ],
   "source": [
    "xb"
   ]
  },
  {
   "cell_type": "markdown",
   "id": "954785ae",
   "metadata": {},
   "source": [
    "## 3. Construindo um índice e adicionando os vetores a ele"
   ]
  },
  {
   "cell_type": "code",
   "execution_count": 27,
   "id": "55debbe4",
   "metadata": {},
   "outputs": [
    {
     "name": "stdout",
     "output_type": "stream",
     "text": [
      "True\n",
      "16045\n"
     ]
    }
   ],
   "source": [
    "import faiss                   # make faiss available\n",
    "\n",
    "#Cria índice com versão mais simples que apenas realiza uma busca exaustiva de distância L2\n",
    "index = faiss.IndexIDMap(faiss.IndexFlatL2(d))   # build the index\n",
    "#index = faiss.IndexFlatL2(d)\n",
    "\n",
    "# Os índices precisam saber qual é a dimensionalidade dos vetores e a maioria requer uma fase de treinamento\n",
    "# Para o IndexFlatL2, podemos pular essa operação\n",
    "\n",
    "# Verifica se o índice já está treinado\n",
    "print(index.is_trained)\n",
    "\n",
    "# Adiciona os vetores ao índice do banco de dados\n",
    "index.add_with_ids(xb, id_list)                 # add vectors to the index\n",
    "#index.add(xb)\n",
    "\n",
    "# Verifica o número de vetores indexados\n",
    "print(index.ntotal)"
   ]
  },
  {
   "cell_type": "markdown",
   "id": "da8ba0ac",
   "metadata": {},
   "source": [
    "## 4. Buscando"
   ]
  },
  {
   "cell_type": "code",
   "execution_count": 28,
   "id": "898f3b76",
   "metadata": {},
   "outputs": [
    {
     "name": "stdout",
     "output_type": "stream",
     "text": [
      "[[16045 15795 15997 15257]\n",
      " [16044 15691 16007 15679]\n",
      " [16043 15571 15000 15933]\n",
      " [16042 15538 16004 15540]\n",
      " [16041 14399 14555 14885]]\n",
      "[[  0.      156.57214 156.74513 158.37045]\n",
      " [  0.      156.001   156.1425  156.37476]\n",
      " [  0.      154.04337 154.29654 154.31151]\n",
      " [  0.      149.58832 150.87465 152.00418]\n",
      " [  0.      152.05606 152.75455 152.84671]]\n",
      "[[14533 15024 15227 15663]\n",
      " [14800 15362 15194 15927]\n",
      " [15814 15769 15684 16030]\n",
      " [14596 15434 15191 15584]\n",
      " [15024 15396 15730 15882]]\n",
      "[[15869 15649 15760 14934]\n",
      " [15742 15814 15778 15997]\n",
      " [15776 15210 15257 14485]\n",
      " [14383 15540 14914 15051]\n",
      " [14904 14868 14790 13983]]\n"
     ]
    }
   ],
   "source": [
    "# k é o número de vetores que serão retornados na busca\n",
    "k = 4                          # we want to see 4 nearest neighbors\n",
    "\n",
    "# teste de sanidade do banco\n",
    "D, I = index.search(xb[:5], k) # sanity check\n",
    "print(I)\n",
    "print(D)\n",
    "\n",
    "# busca propriamente dita\n",
    "D, I = index.search(xq, k)     # actual search\n",
    "print(I[:5])                   # neighbors of the 5 first queries\n",
    "print(I[-5:])                  # neighbors of the 5 last queries\n",
    "\n",
    "# I é uma matriz inteira de tamanho nq x k, onde a linha i contém os IDs dos k vizinhos do vetor de consulta i,\n",
    "# ordenados por distância crescente\n",
    "\n",
    "# D é uma matriz de ponto flutuante nq x k com as distâncias quadráticas correspondentes"
   ]
  },
  {
   "cell_type": "markdown",
   "id": "9bbc9e08",
   "metadata": {},
   "source": [
    "Para realizar uma pesquisa semântica com termos de pesquisa em uma base de jurisprudência do TCU, você provavelmente deseja utilizar um tipo de índice que seja eficiente para calcular similaridades entre os vetores que representam os documentos da jurisprudência e os vetores que representam os termos de pesquisa.\n",
    "\n",
    "O Faiss oferece vários tipos de índices que podem ser adequados para essa tarefa, dependendo das características específicas do seu conjunto de dados e das necessidades da sua aplicação. Aqui estão algumas sugestões:\n",
    "\n",
    "IndexFlatL2: Este é o tipo mais simples de índice e pode ser uma escolha adequada se você estiver lidando com um conjunto de dados relativamente pequeno e a eficiência não for uma preocupação principal. No entanto, se você estiver trabalhando com uma base de jurisprudência grande, o IndexFlatL2 pode não ser a melhor escolha devido à sua complexidade de busca linear.\n",
    "\n",
    "IndexIVFFlat: Este é um tipo de índice que divide o espaço de vetores em células usando quantização vetorial e usa a busca aproximada dentro de cada célula para acelerar a busca. Pode ser uma boa opção se você estiver lidando com um conjunto de dados grande e quiser equilibrar eficiência e precisão.\n",
    "\n",
    "IndexHNSWFlat: Este é um tipo de índice que constrói uma estrutura de vizinhança hierárquica esparsa (HNSW) para acelerar a busca de vizinhos mais próximos. Pode ser uma escolha adequada se a eficiência de busca for uma prioridade e você estiver disposto a sacrificar um pouco de precisão em troca de velocidade.\n",
    "\n",
    "IndexIDMap + IndexLSH: Esta é uma combinação de índices onde o IndexIDMap armazena os vetores e seus IDs correspondentes, enquanto o IndexLSH é usado para acelerar a busca aproximada. Pode ser uma boa opção se você estiver lidando com um conjunto de dados grande e quiser uma solução simples e eficiente.\n",
    "\n",
    "IndexPQ: Este é um tipo de índice que usa quantização de produto para acelerar a busca aproximada. Pode ser uma escolha adequada se você estiver lidando com um conjunto de dados grande e quiser uma solução eficiente em termos de memória e tempo de busca.\n",
    "\n",
    "A escolha do tipo de índice depende de vários fatores, como o tamanho do conjunto de dados, os requisitos de eficiência de busca e a precisão desejada. Você pode experimentar diferentes tipos de índices e ajustar os parâmetros conforme necessário para encontrar a melhor solução para o seu caso de uso específico."
   ]
  }
 ],
 "metadata": {
  "kernelspec": {
   "display_name": "Python 3 (ipykernel)",
   "language": "python",
   "name": "python3"
  },
  "language_info": {
   "codemirror_mode": {
    "name": "ipython",
    "version": 3
   },
   "file_extension": ".py",
   "mimetype": "text/x-python",
   "name": "python",
   "nbconvert_exporter": "python",
   "pygments_lexer": "ipython3",
   "version": "3.11.5"
  }
 },
 "nbformat": 4,
 "nbformat_minor": 5
}
