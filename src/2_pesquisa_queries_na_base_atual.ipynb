{
 "cells": [
  {
   "cell_type": "markdown",
   "metadata": {},
   "source": [
    "# Caderno 2 - Pesquisa as queries na base atual e extrai as métricas"
   ]
  },
  {
   "cell_type": "markdown",
   "metadata": {},
   "source": [
    "## 1. Carrega as bases de dados"
   ]
  },
  {
   "cell_type": "code",
   "execution_count": 1,
   "metadata": {},
   "outputs": [],
   "source": [
    "import pandas as pd\n",
    "\n",
    "PASTA_DADOS = './dados/'\n",
    "# A pasta dos JURIS aqui não é a pasta original, e sim o resultado do caderno 1\n",
    "PASTA_JURIS_TCU = f'{PASTA_DADOS}outputs/1_tratamento_juris_tcu/'\n",
    "\n",
    "PASTA_RESULTADO_CADERNO = f'{PASTA_DADOS}outputs/2_pesquisa_queries_na_base_atual/'\n",
    "\n",
    "# Carrega os arquivos \n",
    "def carrega_juris_tcu():\n",
    "    doc1 = pd.read_csv(f'{PASTA_JURIS_TCU}doc_tratado_parte_1.csv', sep='|')\n",
    "    doc2 = pd.read_csv(f'{PASTA_JURIS_TCU}doc_tratado_parte_2.csv', sep='|')\n",
    "    doc3 = pd.read_csv(f'{PASTA_JURIS_TCU}doc_tratado_parte_3.csv', sep='|')\n",
    "    doc4 = pd.read_csv(f'{PASTA_JURIS_TCU}doc_tratado_parte_4.csv', sep='|')\n",
    "    doc = pd.concat([doc1, doc2, doc3, doc4], ignore_index=True)\n",
    "    query = pd.read_csv(f'{PASTA_JURIS_TCU}query_tratado.csv', sep='|')\n",
    "    qrel = pd.read_csv(f'{PASTA_JURIS_TCU}qrel_tratado.csv', sep='|')\n",
    "\n",
    "    return doc, query, qrel"
   ]
  },
  {
   "cell_type": "code",
   "execution_count": 2,
   "metadata": {},
   "outputs": [
    {
     "name": "stdout",
     "output_type": "stream",
     "text": [
      "********** JURIS_TCU ********** \n",
      "Total de documentos: 16045\n",
      "Total de query: 150\n",
      "Total de qrel: 2250\n"
     ]
    }
   ],
   "source": [
    "doc, query, qrel = carrega_juris_tcu()\n",
    "\n",
    "print('********** JURIS_TCU ********** ')\n",
    "print(f'Total de documentos: {len(doc)}')\n",
    "print(f'Total de query: {len(query)}')\n",
    "print(f'Total de qrel: {len(qrel)}')"
   ]
  },
  {
   "cell_type": "markdown",
   "metadata": {},
   "source": [
    "## 2. Pesquisa todas as queries e salva os primeiros 50 resultados"
   ]
  },
  {
   "cell_type": "markdown",
   "metadata": {},
   "source": [
    "Configura a conexão com o Sorl"
   ]
  },
  {
   "cell_type": "code",
   "execution_count": 3,
   "metadata": {},
   "outputs": [],
   "source": [
    "import getpass\n",
    "\n",
    "# Autenticação e url da base\n",
    "usuario_solr = getpass.getpass('Usuário Solr')\n",
    "senha_solr = getpass.getpass('Senha solr')\n",
    "\n",
    "url_solr = 'http://srv-inx-des-2a/solr/js-subbase/'"
   ]
  },
  {
   "cell_type": "code",
   "execution_count": 4,
   "metadata": {},
   "outputs": [],
   "source": [
    "import requests\n",
    "from requests.auth import HTTPBasicAuth\n",
    "\n",
    "def consulta_solr(query, handler):\n",
    "    params = {\n",
    "        'q': query,\n",
    "        'wt': 'json',  # Formato da resposta (JSON)\n",
    "        'rows': 50,\n",
    "        'fl': ['KEY', 'ENUNCIADO', 'score']\n",
    "    }\n",
    "\n",
    "    # Fazendo a requisição GET\n",
    "    response = requests.get(f'{url_solr}{handler}', params=params, auth=HTTPBasicAuth(usuario_solr, senha_solr))\n",
    "    # Verificando se a requisição foi bem sucedida\n",
    "    return response.json()['response'] if response.status_code == 200 else None"
   ]
  },
  {
   "cell_type": "markdown",
   "metadata": {},
   "source": [
    "Itera em todas as queries e salva no dataframe:"
   ]
  },
  {
   "cell_type": "code",
   "execution_count": 5,
   "metadata": {},
   "outputs": [
    {
     "name": "stderr",
     "output_type": "stream",
     "text": [
      "Pesquisando 150 queries: 150it [02:11,  1.14it/s]\n"
     ]
    }
   ],
   "source": [
    "from tqdm import tqdm\n",
    "\n",
    "def adiciona_resultados_da_pesquisa_na_lista(key_query, texto_query, lista, docs_encontrados, handler):\n",
    "    for rank, doc_encontrado in enumerate(docs_encontrados, 1):\n",
    "        resultado_query_doc = {\n",
    "            'QUERY_KEY': key_query,\n",
    "            'QUERY_TEXT': texto_query,\n",
    "            'DOC_KEY': doc_encontrado['KEY'],\n",
    "            'ENGINE': f'SOLR_PESQUISA_ORIGINAL_{handler}',\n",
    "            'RANK': rank,\n",
    "            'SCORE': doc_encontrado['score']\n",
    "        }\n",
    "        lista.append(resultado_query_doc)\n",
    "\n",
    "\n",
    "handlers_para_pesquisar = ['select', 'selectSwan', 'selectSwanSynonym']\n",
    "lista_resultado_consultas_solr = []\n",
    "for index, row in tqdm(query.iterrows(), desc=f'Pesquisando {len(query)} queries'):\n",
    "    key_query = row['KEY']\n",
    "    texto_query = row['TEXT']\n",
    "\n",
    "    for handler in handlers_para_pesquisar:\n",
    "        resultado_para_query = consulta_solr(texto_query, handler)\n",
    "        docs_encontrados = resultado_para_query['docs']\n",
    "        adiciona_resultados_da_pesquisa_na_lista(key_query, texto_query, lista_resultado_consultas_solr, docs_encontrados, handler)"
   ]
  },
  {
   "cell_type": "code",
   "execution_count": 6,
   "metadata": {},
   "outputs": [],
   "source": [
    "df_resultado_consultas_solr = pd.DataFrame(lista_resultado_consultas_solr)\n",
    "df_resultado_consultas_solr.head()\n",
    "df_resultado_consultas_solr.to_csv(f'{PASTA_RESULTADO_CADERNO}resultado_solr_pesquisa_original.csv', sep='|', index=False)"
   ]
  }
 ],
 "metadata": {
  "kernelspec": {
   "display_name": "Python 3 (ipykernel)",
   "language": "python",
   "name": "python3"
  },
  "language_info": {
   "codemirror_mode": {
    "name": "ipython",
    "version": 3
   },
   "file_extension": ".py",
   "mimetype": "text/x-python",
   "name": "python",
   "nbconvert_exporter": "python",
   "pygments_lexer": "ipython3",
   "version": "3.11.7"
  }
 },
 "nbformat": 4,
 "nbformat_minor": 4
}
