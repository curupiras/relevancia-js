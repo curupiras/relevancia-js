{
 "cells": [
  {
   "cell_type": "code",
   "execution_count": null,
   "id": "ab2ac87e",
   "metadata": {},
   "outputs": [],
   "source": [
    "import os\n",
    "\n",
    "# Defina o caminho para a pasta que contém os arquivos\n",
    "\n",
    "# Pasta com os dados\n",
    "PASTA_DADOS = './dados/'\n",
    "\n",
    "MODELO = 'rufimelo/Legal-BERTimbau-sts-large-ma-v3'\n",
    "CAMINHO_MODELO = MODELO.split(\"/\")[-1]\n",
    "\n",
    "# Pasta onde serão armazenados os resultados desse caderno\n",
    "PASTA_RESULTADO_CADERNO = f'{PASTA_DADOS}outputs/6_gera_embeddings_js/{CAMINHO_MODELO}/'"
   ]
  },
  {
   "cell_type": "code",
   "execution_count": 12,
   "id": "e5f0dbb1",
   "metadata": {},
   "outputs": [
    {
     "name": "stdout",
     "output_type": "stream",
     "text": [
      "Arquivos renomeados com sucesso!\n"
     ]
    }
   ],
   "source": [
    "# Itera sobre todos os arquivos na pasta\n",
    "for filename in os.listdir(PASTA_RESULTADO_CADERNO):\n",
    "    # Ignora subdiretórios, se houver\n",
    "    if os.path.isfile(os.path.join(PASTA_RESULTADO_CADERNO, filename)):\n",
    "        # Cria o novo nome do arquivo\n",
    "        new_filename = CAMINHO_MODELO + '_' + filename\n",
    "        # Renomeia o arquivo\n",
    "        os.rename(\n",
    "            os.path.join(PASTA_RESULTADO_CADERNO, filename),\n",
    "            os.path.join(PASTA_RESULTADO_CADERNO, new_filename)\n",
    "        )\n",
    "\n",
    "print(\"Arquivos renomeados com sucesso!\")"
   ]
  },
  {
   "cell_type": "code",
   "execution_count": 10,
   "id": "e92ed54b",
   "metadata": {},
   "outputs": [
    {
     "name": "stdout",
     "output_type": "stream",
     "text": [
      "Prefixo removido dos arquivos com sucesso!\n"
     ]
    }
   ],
   "source": [
    "# Itera sobre todos os arquivos na pasta\n",
    "for filename in os.listdir(PASTA_RESULTADO_CADERNO):\n",
    "    # Verifica se o nome do arquivo começa com o prefixo\n",
    "    if filename.startswith('paraphrase-multilingual-mpnet-base-v2'):\n",
    "        # Cria o novo nome do arquivo removendo o prefixo\n",
    "        new_filename = filename[len('paraphrase-multilingual-mpnet-base-v2'):]\n",
    "        # Renomeia o arquivo\n",
    "        os.rename(\n",
    "            os.path.join(PASTA_RESULTADO_CADERNO, filename),\n",
    "            os.path.join(PASTA_RESULTADO_CADERNO, new_filename)\n",
    "        )\n",
    "\n",
    "print(\"Prefixo removido dos arquivos com sucesso!\")"
   ]
  },
  {
   "cell_type": "code",
   "execution_count": 11,
   "id": "dca368a4",
   "metadata": {},
   "outputs": [
    {
     "data": {
      "text/plain": [
       "'Legal-BERTimbau-sts-large-ma-v3'"
      ]
     },
     "execution_count": 11,
     "metadata": {},
     "output_type": "execute_result"
    }
   ],
   "source": [
    "CAMINHO_MODELO"
   ]
  }
 ],
 "metadata": {
  "kernelspec": {
   "display_name": "Python 3 (ipykernel)",
   "language": "python",
   "name": "python3"
  },
  "language_info": {
   "codemirror_mode": {
    "name": "ipython",
    "version": 3
   },
   "file_extension": ".py",
   "mimetype": "text/x-python",
   "name": "python",
   "nbconvert_exporter": "python",
   "pygments_lexer": "ipython3",
   "version": "3.11.5"
  }
 },
 "nbformat": 4,
 "nbformat_minor": 5
}
