{
 "cells": [
  {
   "cell_type": "markdown",
   "id": "f19bf9ed",
   "metadata": {},
   "source": [
    "## 1. Instalando o Faiss"
   ]
  },
  {
   "cell_type": "code",
   "execution_count": 11,
   "id": "308010e5",
   "metadata": {},
   "outputs": [
    {
     "name": "stdout",
     "output_type": "stream",
     "text": [
      "Defaulting to user installation because normal site-packages is not writeable\n",
      "Collecting faiss-cpu\n",
      "  Obtaining dependency information for faiss-cpu from https://files.pythonhosted.org/packages/d3/ad/63eb31be05c38445781caecbc6d3b9dec151012194b00573ba34f29d5cf5/faiss_cpu-1.8.0-cp311-cp311-win_amd64.whl.metadata\n",
      "  Downloading faiss_cpu-1.8.0-cp311-cp311-win_amd64.whl.metadata (3.8 kB)\n",
      "Requirement already satisfied: numpy in c:\\programdata\\anaconda3\\lib\\site-packages (from faiss-cpu) (1.24.3)\n",
      "Downloading faiss_cpu-1.8.0-cp311-cp311-win_amd64.whl (14.5 MB)\n",
      "   ---------------------------------------- 0.0/14.5 MB ? eta -:--:--\n",
      "   ---------------------------------------- 0.0/14.5 MB ? eta -:--:--\n",
      "   ---------------------------------------- 0.1/14.5 MB 975.2 kB/s eta 0:00:15\n",
      "   - -------------------------------------- 0.4/14.5 MB 3.8 MB/s eta 0:00:04\n",
      "   -- ------------------------------------- 0.9/14.5 MB 6.2 MB/s eta 0:00:03\n",
      "   --- ------------------------------------ 1.4/14.5 MB 7.2 MB/s eta 0:00:02\n",
      "   ---- ----------------------------------- 1.8/14.5 MB 8.0 MB/s eta 0:00:02\n",
      "   ------ --------------------------------- 2.3/14.5 MB 8.5 MB/s eta 0:00:02\n",
      "   ------- -------------------------------- 2.8/14.5 MB 9.2 MB/s eta 0:00:02\n",
      "   --------- ------------------------------ 3.4/14.5 MB 9.9 MB/s eta 0:00:02\n",
      "   ---------- ----------------------------- 3.9/14.5 MB 10.0 MB/s eta 0:00:02\n",
      "   ------------ --------------------------- 4.4/14.5 MB 10.5 MB/s eta 0:00:01\n",
      "   ------------- -------------------------- 4.9/14.5 MB 10.5 MB/s eta 0:00:01\n",
      "   --------------- ------------------------ 5.5/14.5 MB 10.9 MB/s eta 0:00:01\n",
      "   ---------------- ----------------------- 6.1/14.5 MB 11.2 MB/s eta 0:00:01\n",
      "   ------------------ --------------------- 6.8/14.5 MB 11.4 MB/s eta 0:00:01\n",
      "   -------------------- ------------------- 7.4/14.5 MB 11.5 MB/s eta 0:00:01\n",
      "   --------------------- ------------------ 7.9/14.5 MB 11.7 MB/s eta 0:00:01\n",
      "   ----------------------- ---------------- 8.5/14.5 MB 12.0 MB/s eta 0:00:01\n",
      "   ------------------------ --------------- 9.1/14.5 MB 12.1 MB/s eta 0:00:01\n",
      "   -------------------------- ------------- 9.6/14.5 MB 12.0 MB/s eta 0:00:01\n",
      "   ---------------------------- ----------- 10.2/14.5 MB 12.3 MB/s eta 0:00:01\n",
      "   ------------------------------ --------- 10.9/14.5 MB 13.6 MB/s eta 0:00:01\n",
      "   ------------------------------- -------- 11.3/14.5 MB 13.6 MB/s eta 0:00:01\n",
      "   -------------------------------- ------- 11.8/14.5 MB 13.9 MB/s eta 0:00:01\n",
      "   --------------------------------- ------ 12.3/14.5 MB 13.9 MB/s eta 0:00:01\n",
      "   ----------------------------------- ---- 12.9/14.5 MB 13.9 MB/s eta 0:00:01\n",
      "   ------------------------------------ --- 13.4/14.5 MB 13.9 MB/s eta 0:00:01\n",
      "   -------------------------------------- - 14.0/14.5 MB 13.9 MB/s eta 0:00:01\n",
      "   ---------------------------------------  14.5/14.5 MB 13.9 MB/s eta 0:00:01\n",
      "   ---------------------------------------- 14.5/14.5 MB 12.8 MB/s eta 0:00:00\n",
      "Installing collected packages: faiss-cpu\n",
      "Successfully installed faiss-cpu-1.8.0\n"
     ]
    }
   ],
   "source": [
    "#!pip install --trusted-host pypi.org --trusted-host files.pythonhosted.org faiss-cpu\n",
    "#!pip install faiss-gpu\n",
    "\n",
    "# CPU-only version\n",
    "#$ conda install -c pytorch faiss-cpu=1.8.0 --verbose -y\n",
    "\n",
    "# GPU(+CPU) version\n",
    "#$ conda install -c pytorch -c nvidia faiss-gpu=1.8.0\n",
    "\n",
    "# GPU(+CPU) version with NVIDIA RAFT\n",
    "#$ conda install -c pytorch -c nvidia -c rapidsai -c conda-forge faiss-gpu-raft=1.8.0"
   ]
  },
  {
   "cell_type": "markdown",
   "id": "9b0f7677",
   "metadata": {},
   "source": [
    "## 2. Criando os vetores com os dados"
   ]
  },
  {
   "cell_type": "code",
   "execution_count": 2,
   "id": "b15339c3",
   "metadata": {},
   "outputs": [],
   "source": [
    "import numpy as np\n",
    "\n",
    "# d é o tamanho dos vetores (embeddings)\n",
    "d = 64                           # dimension\n",
    "\n",
    "# nb é a quantidade de vetores indexados no banco de dados\n",
    "nb = 100000                      # database size\n",
    "\n",
    "# nq é o número de queries\n",
    "nq = 10000                       # nb of queries\n",
    "\n",
    "np.random.seed(1234)             # make reproducible\n",
    "\n",
    "# xb é a matriz que contem todos os vetores que serão indexados no banco. Tamanho nb x d.\n",
    "xb = np.random.random((nb, d)).astype('float32')\n",
    "xb[:, 0] += np.arange(nb) / 1000.\n",
    "\n",
    "# xq é a matriz que contém todos os vetores de queries. Tamanho nq x d\n",
    "xq = np.random.random((nq, d)).astype('float32')\n",
    "xq[:, 0] += np.arange(nq) / 1000."
   ]
  },
  {
   "cell_type": "markdown",
   "id": "692dc72d",
   "metadata": {},
   "source": [
    "## 3. Construindo um índice e adicionando os vetores a ele"
   ]
  },
  {
   "cell_type": "code",
   "execution_count": 12,
   "id": "3e69279c",
   "metadata": {},
   "outputs": [
    {
     "name": "stdout",
     "output_type": "stream",
     "text": [
      "True\n",
      "100000\n"
     ]
    }
   ],
   "source": [
    "import faiss                   # make faiss available\n",
    "\n",
    "#Cria índice com versão mais simples que apenas realiza uma busca exaustiva de distância L2\n",
    "index = faiss.IndexFlatL2(d)   # build the index\n",
    "\n",
    "# Os índices precisam saber qual é a dimensionalidade dos vetores e a maioria requer uma fase de treinamento\n",
    "# Para o IndexFlatL2, podemos pular essa operação\n",
    "\n",
    "# Verifica se o índice já está treinado\n",
    "print(index.is_trained)\n",
    "\n",
    "# Adiciona os vetores ao índice do banco de dados\n",
    "index.add(xb)                  # add vectors to the index\n",
    "\n",
    "# Verifica o número de vetores indexados\n",
    "print(index.ntotal)"
   ]
  },
  {
   "cell_type": "markdown",
   "id": "8ed17a69",
   "metadata": {},
   "source": [
    "## 4. Buscando"
   ]
  },
  {
   "cell_type": "code",
   "execution_count": 13,
   "id": "0e5cbea5",
   "metadata": {},
   "outputs": [
    {
     "name": "stdout",
     "output_type": "stream",
     "text": [
      "[[  0 393 363  78]\n",
      " [  1 555 277 364]\n",
      " [  2 304 101  13]\n",
      " [  3 173  18 182]\n",
      " [  4 288 370 531]]\n",
      "[[0.        7.1751733 7.2076297 7.2511625]\n",
      " [0.        6.3235645 6.684581  6.799946 ]\n",
      " [0.        5.7964087 6.391736  7.2815123]\n",
      " [0.        7.2779055 7.5279875 7.662846 ]\n",
      " [0.        6.7638035 7.2951202 7.368815 ]]\n",
      "[[ 381  207  210  477]\n",
      " [ 526  911  142   72]\n",
      " [ 838  527 1290  425]\n",
      " [ 196  184  164  359]\n",
      " [ 526  377  120  425]]\n",
      "[[ 9900 10500  9309  9831]\n",
      " [11055 10895 10812 11321]\n",
      " [11353 11103 10164  9787]\n",
      " [10571 10664 10632  9638]\n",
      " [ 9628  9554 10036  9582]]\n"
     ]
    }
   ],
   "source": [
    "# k é o número de vetores que serão retornados na busca\n",
    "k = 4                          # we want to see 4 nearest neighbors\n",
    "\n",
    "# teste de sanidade do banco\n",
    "D, I = index.search(xb[:5], k) # sanity check\n",
    "print(I)\n",
    "print(D)\n",
    "\n",
    "# busca propriamente dita\n",
    "D, I = index.search(xq, k)     # actual search\n",
    "print(I[:5])                   # neighbors of the 5 first queries\n",
    "print(I[-5:])                  # neighbors of the 5 last queries\n",
    "\n",
    "# I é uma matriz inteira de tamanho nq x k, onde a linha i contém os IDs dos k vizinhos do vetor de consulta i,\n",
    "# ordenados por distância crescente\n",
    "\n",
    "# D é uma matriz de ponto flutuante nq x k com as distâncias quadráticas correspondentes"
   ]
  },
  {
   "cell_type": "markdown",
   "id": "09b0e686",
   "metadata": {},
   "source": [
    "Para realizar uma pesquisa semântica com termos de pesquisa em uma base de jurisprudência do TCU, você provavelmente deseja utilizar um tipo de índice que seja eficiente para calcular similaridades entre os vetores que representam os documentos da jurisprudência e os vetores que representam os termos de pesquisa.\n",
    "\n",
    "O Faiss oferece vários tipos de índices que podem ser adequados para essa tarefa, dependendo das características específicas do seu conjunto de dados e das necessidades da sua aplicação. Aqui estão algumas sugestões:\n",
    "\n",
    "IndexFlatL2: Este é o tipo mais simples de índice e pode ser uma escolha adequada se você estiver lidando com um conjunto de dados relativamente pequeno e a eficiência não for uma preocupação principal. No entanto, se você estiver trabalhando com uma base de jurisprudência grande, o IndexFlatL2 pode não ser a melhor escolha devido à sua complexidade de busca linear.\n",
    "\n",
    "IndexIVFFlat: Este é um tipo de índice que divide o espaço de vetores em células usando quantização vetorial e usa a busca aproximada dentro de cada célula para acelerar a busca. Pode ser uma boa opção se você estiver lidando com um conjunto de dados grande e quiser equilibrar eficiência e precisão.\n",
    "\n",
    "IndexHNSWFlat: Este é um tipo de índice que constrói uma estrutura de vizinhança hierárquica esparsa (HNSW) para acelerar a busca de vizinhos mais próximos. Pode ser uma escolha adequada se a eficiência de busca for uma prioridade e você estiver disposto a sacrificar um pouco de precisão em troca de velocidade.\n",
    "\n",
    "IndexIDMap + IndexLSH: Esta é uma combinação de índices onde o IndexIDMap armazena os vetores e seus IDs correspondentes, enquanto o IndexLSH é usado para acelerar a busca aproximada. Pode ser uma boa opção se você estiver lidando com um conjunto de dados grande e quiser uma solução simples e eficiente.\n",
    "\n",
    "IndexPQ: Este é um tipo de índice que usa quantização de produto para acelerar a busca aproximada. Pode ser uma escolha adequada se você estiver lidando com um conjunto de dados grande e quiser uma solução eficiente em termos de memória e tempo de busca.\n",
    "\n",
    "A escolha do tipo de índice depende de vários fatores, como o tamanho do conjunto de dados, os requisitos de eficiência de busca e a precisão desejada. Você pode experimentar diferentes tipos de índices e ajustar os parâmetros conforme necessário para encontrar a melhor solução para o seu caso de uso específico."
   ]
  }
 ],
 "metadata": {
  "kernelspec": {
   "display_name": "Python 3 (ipykernel)",
   "language": "python",
   "name": "python3"
  },
  "language_info": {
   "codemirror_mode": {
    "name": "ipython",
    "version": 3
   },
   "file_extension": ".py",
   "mimetype": "text/x-python",
   "name": "python",
   "nbconvert_exporter": "python",
   "pygments_lexer": "ipython3",
   "version": "3.11.5"
  }
 },
 "nbformat": 4,
 "nbformat_minor": 5
}
