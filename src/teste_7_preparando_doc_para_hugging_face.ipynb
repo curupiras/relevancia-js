{
 "cells": [
  {
   "cell_type": "code",
   "execution_count": 5,
   "id": "65e22774-b005-4088-b655-7955d45ce061",
   "metadata": {},
   "outputs": [],
   "source": [
    "import pandas as pd\n",
    "\n",
    "PASTA_DADOS = './dados/'\n",
    "# A pasta dos JURIS aqui não é a pasta original, e sim o resultado do caderno 1\n",
    "PASTA_JURIS_TCU = f'{PASTA_DADOS}outputs/1_tratamento_juris_tcu/'\n",
    "\n",
    "PASTA_RESULTADO_CADERNO = f'{PASTA_DADOS}/hugging_face/juris_tcu/'\n",
    "\n",
    "# Carrega os arquivos \n",
    "def carrega_juris_tcu():\n",
    "    doc1 = pd.read_csv(f'{PASTA_JURIS_TCU}doc_tratado_parte_1.csv', sep='|')\n",
    "    doc2 = pd.read_csv(f'{PASTA_JURIS_TCU}doc_tratado_parte_2.csv', sep='|')\n",
    "    doc3 = pd.read_csv(f'{PASTA_JURIS_TCU}doc_tratado_parte_3.csv', sep='|')\n",
    "    doc4 = pd.read_csv(f'{PASTA_JURIS_TCU}doc_tratado_parte_4.csv', sep='|')\n",
    "    doc = pd.concat([doc1, doc2, doc3, doc4], ignore_index=True)\n",
    "    query = pd.read_csv(f'{PASTA_JURIS_TCU}query_tratado.csv', sep='|')\n",
    "    qrel = pd.read_csv(f'{PASTA_JURIS_TCU}qrel_tratado.csv', sep='|')\n",
    "\n",
    "    return doc, query, qrel"
   ]
  },
  {
   "cell_type": "code",
   "execution_count": 7,
   "id": "7bae480e-81b4-43b5-b262-9b191835b6fe",
   "metadata": {},
   "outputs": [
    {
     "name": "stdout",
     "output_type": "stream",
     "text": [
      "********** JURIS_TCU ********** \n",
      "Total de documentos: 16045\n",
      "Total de query: 150\n",
      "Total de qrel: 2250\n"
     ]
    }
   ],
   "source": [
    "doc, query, qrel = carrega_juris_tcu()\n",
    "\n",
    "print('********** JURIS_TCU ********** ')\n",
    "print(f'Total de documentos: {len(doc)}')\n",
    "print(f'Total de query: {len(query)}')\n",
    "print(f'Total de qrel: {len(qrel)}')"
   ]
  },
  {
   "cell_type": "code",
   "execution_count": 9,
   "id": "b0040df3-43cc-4422-870d-e80ca07def76",
   "metadata": {},
   "outputs": [],
   "source": [
    "doc.to_csv(f'{PASTA_RESULTADO_CADERNO}doc.csv', sep='|', index=False)"
   ]
  }
 ],
 "metadata": {
  "kernelspec": {
   "display_name": "Python 3 (ipykernel)",
   "language": "python",
   "name": "python3"
  },
  "language_info": {
   "codemirror_mode": {
    "name": "ipython",
    "version": 3
   },
   "file_extension": ".py",
   "mimetype": "text/x-python",
   "name": "python",
   "nbconvert_exporter": "python",
   "pygments_lexer": "ipython3",
   "version": "3.12.4"
  }
 },
 "nbformat": 4,
 "nbformat_minor": 5
}
