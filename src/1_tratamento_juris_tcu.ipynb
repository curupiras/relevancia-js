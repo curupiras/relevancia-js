{
 "cells": [
  {
   "cell_type": "markdown",
   "metadata": {},
   "source": [
    "# Caderno 1 - Tratamento das bases de dados\n",
    "\n",
    "A base [juris_tcu](https://github.com/marcusborela/ind-ir/tree/main/data/juris_tcu) será usada como padrão ouro para verificar evoluções na pesquisa de jurisprudência selecionada. Ela contém três arquivos:\n",
    "\n",
    "- doc.csv: CSV contendo todos os documentos da jurisprudência selecionada (a data da base é, aproximadamente, junho de 2023)\n",
    "- query.csv: Lista de queries de referência\n",
    "- qrel.csv: Lista de documentos relevantes por query\n",
    "\n",
    "A base [jurisprudência selecionada](https://sites.tcu.gov.br/jurisprudencia/) contém a lista de todos os documentos da jurisprudência selecionada. O download foi feito dia 8/4. Devido à dificuldade de se guardar arquivos grandes no github, dividi o arquivo original em quatro partes.\n",
    "\n",
    "Em tese, não temos que trabalhar com a base de jurisprudência selecionada, e sim apenas com a base juris_tcu. Entretanto, embora todos os documentos da base juris_tcu estejam na base jurisprudencia-selecionada, o formato está um pouco diferente:\n",
    "\n",
    "- A base jurisprudencia-selecionada contém mais campos\n",
    "- A KEY na base jurisprudencia-selecionada está no formato final da base (e a do juris-tcu está em um formato intermediário)\n",
    "\n",
    "Assim, o que será feito neste caderno é o tratamento da base juris_tcu para:\n",
    "\n",
    "- Considerar a KEY dos documentos no formato final (e não no formato intermediário)\n",
    "- Considerar o documento completo em vez de um documento parcial"
   ]
  },
  {
   "cell_type": "markdown",
   "metadata": {},
   "source": [
    "## 1. Carrega as bases de dados"
   ]
  },
  {
   "cell_type": "code",
   "execution_count": 1,
   "metadata": {},
   "outputs": [],
   "source": [
    "import pandas as pd\n",
    "\n",
    "PASTA_DADOS = './dados/'\n",
    "PASTA_JURIS_TCU = f'{PASTA_DADOS}originais/juris_tcu/'\n",
    "PASTA_JS = f'{PASTA_DADOS}originais/jurisprudencia_selecionada/'\n",
    "PASTA_EXPORTACAO_JURIS_TCU = f'{PASTA_DADOS}outputs/1_tratamento_juris_tcu/'\n",
    "\n",
    "# Carrega os arquivos \n",
    "def carrega_juris_tcu():\n",
    "    doc = pd.read_csv(f'{PASTA_JURIS_TCU}doc.csv')\n",
    "    query = pd.read_csv(f'{PASTA_JURIS_TCU}query.csv')\n",
    "    qrel = pd.read_csv(f'{PASTA_JURIS_TCU}qrel.csv')\n",
    "\n",
    "    return doc, query, qrel\n",
    "\n",
    "def carrega_jurisprudencia_selecionada():\n",
    "    js_parte_1 = pd.read_csv(f'{PASTA_JS}jurisprudencia-selecionada-parte-1.csv', sep='|')\n",
    "    js_parte_2 = pd.read_csv(f'{PASTA_JS}jurisprudencia-selecionada-parte-2.csv', sep='|')\n",
    "    js_parte_3 = pd.read_csv(f'{PASTA_JS}jurisprudencia-selecionada-parte-3.csv', sep='|')\n",
    "    js_parte_4 = pd.read_csv(f'{PASTA_JS}jurisprudencia-selecionada-parte-4.csv', sep='|')\n",
    "    \n",
    "    js_restaurado = pd.concat([js_parte_1, js_parte_2, js_parte_3, js_parte_4], ignore_index=True)\n",
    "\n",
    "    return js_restaurado\n",
    "    "
   ]
  },
  {
   "cell_type": "code",
   "execution_count": 2,
   "metadata": {},
   "outputs": [
    {
     "name": "stdout",
     "output_type": "stream",
     "text": [
      "********** JURIS_TCU ********** \n",
      "Total de documentos: 16045\n",
      "Total de query: 150\n",
      "Total de qrel: 2250\n",
      "********** JURISPRUDENCIA_SELECIONADA ********** \n",
      "Total de documentos: 16449\n"
     ]
    }
   ],
   "source": [
    "doc, query, qrel = carrega_juris_tcu()\n",
    "js = carrega_jurisprudencia_selecionada()\n",
    "\n",
    "print('********** JURIS_TCU ********** ')\n",
    "print(f'Total de documentos: {len(doc)}')\n",
    "print(f'Total de query: {len(query)}')\n",
    "print(f'Total de qrel: {len(qrel)}')\n",
    "\n",
    "print('********** JURISPRUDENCIA_SELECIONADA ********** ')\n",
    "print(f'Total de documentos: {len(js)}')"
   ]
  },
  {
   "cell_type": "markdown",
   "metadata": {},
   "source": [
    "## 2. Relação entre as chaves dos documentos nas bases juris-tcu e jurisprudencia-selecionada\n",
    "\n",
    "Inicialmente, é necessário separar corretamente os documentos da base jurisprudencia-selecionada de acordo com os documentos da base juris-tcu.\n",
    "\n",
    "A KEY na jurisprudencia-selecionada é formada por um prefixo e um ID. O ID corresponde ao ID da base juris-tcu.\n",
    "\n",
    "Para checar que esse raciocínio está correto, vamos primeiro separar a KEY em prefixo e número:"
   ]
  },
  {
   "cell_type": "code",
   "execution_count": 3,
   "metadata": {},
   "outputs": [],
   "source": [
    "js[['KEY_PREFIXO', 'KEY_NUMERO']] = js.KEY.str.rsplit('-', n=1, expand=True)\n",
    "# Converte KEY_NUMERO para inteiro:\n",
    "js.KEY_NUMERO = js.KEY_NUMERO.astype(int)"
   ]
  },
  {
   "cell_type": "markdown",
   "metadata": {},
   "source": [
    "Agora vamos verificar quantos tipos de prefixo existem (2) e verificar se todos os números são únicos:"
   ]
  },
  {
   "cell_type": "code",
   "execution_count": 4,
   "metadata": {},
   "outputs": [
    {
     "name": "stdout",
     "output_type": "stream",
     "text": [
      "PREFIXOS ÚNICOS:\n",
      "['JURISPRUDENCIA-SELECIONADA' 'JURISPRUDENCIA-SELECIONADA-LEGADA']\n",
      "Tamanho da base: 16449\n",
      "Total de KEY_NUMERO únicos: 16449\n"
     ]
    }
   ],
   "source": [
    "print('PREFIXOS ÚNICOS:')\n",
    "print(js.KEY_PREFIXO.unique())\n",
    "\n",
    "print(f'Tamanho da base: {len(js)}')\n",
    "print(f'Total de KEY_NUMERO únicos: {len(js.KEY_NUMERO.unique())}')"
   ]
  },
  {
   "cell_type": "markdown",
   "metadata": {},
   "source": [
    "Antes de trabalhar com o merge das bases, vamos checar se todos os IDs na base juris-tcu (doc.ID) possui uma correspondência na base jurisprudência selecionada.\n",
    "\n",
    "Para isso, basta checar:\n",
    "\n",
    "- Se len(doc.ID) == len(doc.ID.unique()) => Todos os IDs são únicos\n",
    "- Se o total de correspondências de js.KEY_NUMERO em doc.ID é igual ao tamanho de len(doc.ID)"
   ]
  },
  {
   "cell_type": "code",
   "execution_count": 5,
   "metadata": {},
   "outputs": [
    {
     "name": "stdout",
     "output_type": "stream",
     "text": [
      "len(doc.ID) = 16045\n",
      "len(doc.ID.unique()) = 16045\n",
      "correspondencias = 16045\n"
     ]
    }
   ],
   "source": [
    "correspondencias = js.KEY_NUMERO.isin(doc.ID)\n",
    "\n",
    "print(f'len(doc.ID) = {len(doc.ID)}')\n",
    "print(f'len(doc.ID.unique()) = {len(doc.ID.unique())}')\n",
    "print(f'correspondencias = {correspondencias.sum()}')"
   ]
  },
  {
   "cell_type": "markdown",
   "metadata": {},
   "source": [
    "Apenas para garantir, podemos verificar também checando os limites mínimo e máximo dos intervalos das IDs para cada PREFIXO (JURISPRUDENCIA-SELECIONADA e JURISPRUDENCIA_SELECIONADA-LEGADA):"
   ]
  },
  {
   "cell_type": "code",
   "execution_count": 6,
   "metadata": {},
   "outputs": [
    {
     "name": "stdout",
     "output_type": "stream",
     "text": [
      "Intervalo de IDs para JURISPRUDENCIA_SELECIONADA: 284 a 165421\n",
      "Intervalo de IDs para JURISPRUDENCIA_SELECIONADA_LEGADA: 5 a 250\n"
     ]
    }
   ],
   "source": [
    "filtro_js = ~js.KEY.str.contains('JURISPRUDENCIA-SELECIONADA-LEGADA')\n",
    "filtro_js_legada = js.KEY.str.contains('JURISPRUDENCIA-SELECIONADA-LEGADA')\n",
    "\n",
    "# Encontrar o menor valor de 'Numero' para STRING1 e STRING2\n",
    "min_js = js[filtro_js].KEY_NUMERO.min()\n",
    "min_js_legada = js[filtro_js_legada].KEY_NUMERO.min()\n",
    "max_js = js[filtro_js].KEY_NUMERO.max()\n",
    "max_js_legada = js[filtro_js_legada].KEY_NUMERO.max()\n",
    "\n",
    "print(f'Intervalo de IDs para JURISPRUDENCIA_SELECIONADA: {min_js} a {max_js}')\n",
    "print(f'Intervalo de IDs para JURISPRUDENCIA_SELECIONADA_LEGADA: {min_js_legada} a {max_js_legada}')"
   ]
  },
  {
   "cell_type": "markdown",
   "metadata": {},
   "source": [
    "## 3. Corrigindo as chaves dos documentos na base juris-tcu"
   ]
  },
  {
   "cell_type": "markdown",
   "metadata": {},
   "source": [
    "A nova base doc terá todos os atributos que tem a base jurisprudencia-selecionada. Os registros serão os mesmo. Assim, filtra a base de jurisprudencia-selecionada para ter apenas os registros que tem na base juris-tcu:"
   ]
  },
  {
   "cell_type": "code",
   "execution_count": 7,
   "metadata": {},
   "outputs": [
    {
     "name": "stdout",
     "output_type": "stream",
     "text": [
      "********** ANTES DO PROCESSO **********\n",
      "Tamanho da base juris-tcu: 16045\n",
      "Colunas da base juris-tcu: Index(['ID', 'TEXT', 'REFERENCE_LIST', 'PARADIGMATIC', 'AREA_NAME',\n",
      "       'AREA_ID_DESCRIPTOR', 'NORMATIVE_PROCESS_TYPE',\n",
      "       'NORMATIVE_IDENTIFICATION', 'NORMATIVE_DATE', 'NORMATIVE_AUTHOR_TYPE',\n",
      "       'NORMATIVE_AUTHOR_NAME'],\n",
      "      dtype='object')\n",
      "********** DEPOIS DO PROCESSO **********\n",
      "Tamanho da base juris-tcu: 16045\n",
      "Colunas da base juris-tcu: Index(['KEY', 'NUMACORDAO', 'ANOACORDAO', 'COLEGIADO', 'AREA', 'TEMA',\n",
      "       'SUBTEMA', 'ENUNCIADO', 'EXCERTO', 'NUMSUMULA', 'DATASESSAOFORMATADA',\n",
      "       'AUTORTESE', 'FUNCAOAUTORTESE', 'TIPOPROCESSO', 'TIPORECURSO',\n",
      "       'INDEXACAO', 'INDEXADORESCONSOLIDADOS', 'PARAGRAFOLC',\n",
      "       'REFERENCIALEGAL', 'PUBLICACAOAPRESENTACAO', 'PARADIGMATICO',\n",
      "       'KEY_PREFIXO', 'KEY_NUMERO'],\n",
      "      dtype='object')\n"
     ]
    }
   ],
   "source": [
    "print('********** ANTES DO PROCESSO **********')\n",
    "print(f'Tamanho da base juris-tcu: {len(doc)}')\n",
    "print(f'Colunas da base juris-tcu: {doc.columns}')\n",
    "\n",
    "correspondencias = js.KEY_NUMERO.isin(doc.ID)\n",
    "doc = js[correspondencias]\n",
    "\n",
    "print('********** DEPOIS DO PROCESSO **********')\n",
    "print(f'Tamanho da base juris-tcu: {len(doc)}')\n",
    "print(f'Colunas da base juris-tcu: {doc.columns}')"
   ]
  },
  {
   "cell_type": "markdown",
   "metadata": {},
   "source": [
    "Não há nada que precisa ser feito na base de query. Já para a base qrel, é necessário corrigir o DOC_ID, adicionando o prefixo correto.\n",
    "\n",
    "Como os limites são bem definidos, podemos formar a KEY assim:\n",
    "\n",
    "- Se DOC_ID for menor ou igual a 250, JURISPRUDENCIA-SELECIONADA-LEGADA-DOC_ID\n",
    "- Se DOC_ID for maior que 250, JURISPRUDENCIA-SELECIONADA-DOC_ID"
   ]
  },
  {
   "cell_type": "code",
   "execution_count": 8,
   "metadata": {},
   "outputs": [
    {
     "name": "stdout",
     "output_type": "stream",
     "text": [
      "Testando duas chaves em cada grupo:\n",
      "0       JURISPRUDENCIA-SELECIONADA-21064\n",
      "1066    JURISPRUDENCIA-SELECIONADA-21064\n",
      "Name: DOC_KEY, dtype: object\n",
      "221    JURISPRUDENCIA-SELECIONADA-LEGADA-13\n",
      "Name: DOC_KEY, dtype: object\n"
     ]
    }
   ],
   "source": [
    "qrel['DOC_KEY'] = qrel['DOC_ID'].apply(lambda x: f\"JURISPRUDENCIA-SELECIONADA-LEGADA-{x}\" if x <= 250 else f\"JURISPRUDENCIA-SELECIONADA-{x}\")\n",
    "\n",
    "print('Testando duas chaves em cada grupo:')\n",
    "print(qrel[qrel.DOC_ID == 21064].DOC_KEY)\n",
    "print(qrel[qrel.DOC_ID == 13].DOC_KEY)\n"
   ]
  },
  {
   "cell_type": "markdown",
   "metadata": {},
   "source": [
    "Agora, apenas por uma questão de normalização, vamos usar a expressão KEY em vez da expressão ID nas bases doc, query e qrel:"
   ]
  },
  {
   "cell_type": "code",
   "execution_count": 9,
   "metadata": {},
   "outputs": [
    {
     "name": "stdout",
     "output_type": "stream",
     "text": [
      "Index(['KEY', 'NUMACORDAO', 'ANOACORDAO', 'COLEGIADO', 'AREA', 'TEMA',\n",
      "       'SUBTEMA', 'ENUNCIADO', 'EXCERTO', 'NUMSUMULA', 'DATASESSAOFORMATADA',\n",
      "       'AUTORTESE', 'FUNCAOAUTORTESE', 'TIPOPROCESSO', 'TIPORECURSO',\n",
      "       'INDEXACAO', 'INDEXADORESCONSOLIDADOS', 'PARAGRAFOLC',\n",
      "       'REFERENCIALEGAL', 'PUBLICACAOAPRESENTACAO', 'PARADIGMATICO'],\n",
      "      dtype='object')\n",
      "Index(['KEY', 'TEXT', 'SOURCE'], dtype='object')\n",
      "Index(['QUERY_KEY', 'DOC_KEY', 'SCORE', 'ENGINE', 'RANK'], dtype='object')\n"
     ]
    }
   ],
   "source": [
    "# Na base doc o nome já é KEY. Vamos apenas apagar KEY_PREFIXO e KEY_NUMERO:\n",
    "doc = doc.drop(['KEY_PREFIXO', 'KEY_NUMERO'], axis=1, errors='ignore')\n",
    "\n",
    "# Renomeia a coluna ID da query para KEY\n",
    "query.rename(columns={'ID': 'KEY'}, inplace=True)\n",
    "\n",
    "# Apaga a coluna DOC_ID na base qrel e renomeia QUERY_ID para QUERY_KEY\n",
    "# e reordena para QUERY_KEY e DOC_KEY ficarem no início\n",
    "qrel.rename(columns={'QUERY_ID': 'QUERY_KEY'}, inplace=True)\n",
    "qrel = qrel.drop(['DOC_ID'], axis=1, errors='ignore')\n",
    "qrel = qrel[['QUERY_KEY', 'DOC_KEY', 'SCORE', 'ENGINE', 'RANK']]\n",
    "# Checa as colunas\n",
    "print(doc.columns)\n",
    "print(query.columns)\n",
    "print(qrel.columns)"
   ]
  },
  {
   "cell_type": "markdown",
   "metadata": {},
   "source": [
    "## 4. Exporta os arquivos do juris_tcu tratados"
   ]
  },
  {
   "cell_type": "code",
   "execution_count": 10,
   "metadata": {},
   "outputs": [],
   "source": [
    "# Vamos exportar os doc em 4 partes para facilitar subir pro github:\n",
    "doc[0:4000].to_csv(f'{PASTA_EXPORTACAO_JURIS_TCU}doc_tratado_parte_1.csv', sep='|', index=False)\n",
    "doc[4000:8000].to_csv(f'{PASTA_EXPORTACAO_JURIS_TCU}doc_tratado_parte_2.csv', sep='|', index=False)\n",
    "doc[8000:12000].to_csv(f'{PASTA_EXPORTACAO_JURIS_TCU}doc_tratado_parte_3.csv', sep='|', index=False)\n",
    "doc[12000:].to_csv(f'{PASTA_EXPORTACAO_JURIS_TCU}doc_tratado_parte_4.csv', sep='|', index=False)\n",
    "query.to_csv(f'{PASTA_EXPORTACAO_JURIS_TCU}query_tratado.csv', sep='|', index=False)\n",
    "qrel.to_csv(f'{PASTA_EXPORTACAO_JURIS_TCU}qrel_tratado.csv', sep='|', index=False)"
   ]
  }
 ],
 "metadata": {
  "kernelspec": {
   "display_name": "Python 3 (ipykernel)",
   "language": "python",
   "name": "python3"
  },
  "language_info": {
   "codemirror_mode": {
    "name": "ipython",
    "version": 3
   },
   "file_extension": ".py",
   "mimetype": "text/x-python",
   "name": "python",
   "nbconvert_exporter": "python",
   "pygments_lexer": "ipython3",
   "version": "3.11.7"
  }
 },
 "nbformat": 4,
 "nbformat_minor": 4
}
