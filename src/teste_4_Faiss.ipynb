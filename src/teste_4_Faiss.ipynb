{
 "cells": [
  {
   "cell_type": "markdown",
   "id": "3ea67331",
   "metadata": {},
   "source": [
    "## 1. Instalando o Faiss"
   ]
  },
  {
   "cell_type": "code",
   "execution_count": 1,
   "id": "9a673d09",
   "metadata": {},
   "outputs": [],
   "source": [
    "#!pip install --trusted-host pypi.org --trusted-host files.pythonhosted.org faiss-cpu\n",
    "#!pip install faiss-gpu\n",
    "\n",
    "# CPU-only version\n",
    "#$ conda install -c pytorch faiss-cpu=1.8.0 --verbose -y\n",
    "\n",
    "# GPU(+CPU) version\n",
    "#$ conda install -c pytorch -c nvidia faiss-gpu=1.8.0\n",
    "\n",
    "# GPU(+CPU) version with NVIDIA RAFT\n",
    "#$ conda install -c pytorch -c nvidia -c rapidsai -c conda-forge faiss-gpu-raft=1.8.0"
   ]
  },
  {
   "cell_type": "markdown",
   "id": "bd82690d",
   "metadata": {},
   "source": [
    "## 2. Criando os vetores com os dados"
   ]
  },
  {
   "cell_type": "code",
   "execution_count": 6,
   "id": "534b703f",
   "metadata": {},
   "outputs": [],
   "source": [
    "import numpy as np\n",
    "\n",
    "# d é o tamanho dos vetores (embeddings)\n",
    "d = 1024                           # dimension\n",
    "\n",
    "# nb é a quantidade de vetores indexados no banco de dados\n",
    "nb = 16000                      # database size\n",
    "\n",
    "# nq é o número de queries\n",
    "nq = 150                       # nb of queries\n",
    "\n",
    "np.random.seed(1234)             # make reproducible\n",
    "\n",
    "# xb é a matriz que contem todos os vetores que serão indexados no banco. Tamanho nb x d.\n",
    "xb = np.random.random((nb, d)).astype('float32')\n",
    "xb[:, 0] += np.arange(nb) / 1000.\n",
    "\n",
    "#id_list é a lista de ids dos vetores em xb\n",
    "id_list = [x for x in range(nb, 0, -1)]\n",
    "\n",
    "# xq é a matriz que contém todos os vetores de queries. Tamanho nq x d\n",
    "xq = np.random.random((nq, d)).astype('float32')\n",
    "xq[:, 0] += np.arange(nq) / 1000."
   ]
  },
  {
   "cell_type": "code",
   "execution_count": 12,
   "id": "698a9541",
   "metadata": {},
   "outputs": [
    {
     "data": {
      "text/plain": [
       "numpy.float32"
      ]
     },
     "execution_count": 12,
     "metadata": {},
     "output_type": "execute_result"
    }
   ],
   "source": [
    "type(xb[0][0])"
   ]
  },
  {
   "cell_type": "markdown",
   "id": "954785ae",
   "metadata": {},
   "source": [
    "## 3. Construindo um índice e adicionando os vetores a ele"
   ]
  },
  {
   "cell_type": "code",
   "execution_count": 7,
   "id": "55debbe4",
   "metadata": {},
   "outputs": [
    {
     "name": "stdout",
     "output_type": "stream",
     "text": [
      "True\n",
      "16000\n"
     ]
    }
   ],
   "source": [
    "import faiss                   # make faiss available\n",
    "\n",
    "#Cria índice com versão mais simples que apenas realiza uma busca exaustiva de distância L2\n",
    "index = faiss.IndexIDMap(faiss.IndexFlatL2(d))   # build the index\n",
    "#index = faiss.IndexFlatL2(d)\n",
    "\n",
    "# Os índices precisam saber qual é a dimensionalidade dos vetores e a maioria requer uma fase de treinamento\n",
    "# Para o IndexFlatL2, podemos pular essa operação\n",
    "\n",
    "# Verifica se o índice já está treinado\n",
    "print(index.is_trained)\n",
    "\n",
    "# Adiciona os vetores ao índice do banco de dados\n",
    "index.add_with_ids(xb, id_list)                 # add vectors to the index\n",
    "#index.add(xb)\n",
    "\n",
    "# Verifica o número de vetores indexados\n",
    "print(index.ntotal)"
   ]
  },
  {
   "cell_type": "markdown",
   "id": "da8ba0ac",
   "metadata": {},
   "source": [
    "## 4. Buscando"
   ]
  },
  {
   "cell_type": "code",
   "execution_count": 8,
   "id": "898f3b76",
   "metadata": {},
   "outputs": [
    {
     "name": "stdout",
     "output_type": "stream",
     "text": [
      "[[16000 15750 15952 15212]\n",
      " [15999 15646 15962 15634]\n",
      " [15998 15526 14955 15888]\n",
      " [15997 15493 15959 15495]\n",
      " [15996 14354 14510 14840]]\n",
      "[[  0.      156.57214 156.74513 158.37045]\n",
      " [  0.      156.001   156.1425  156.37476]\n",
      " [  0.      154.04337 154.29654 154.31151]\n",
      " [  0.      149.58832 150.87465 152.00418]\n",
      " [  0.      152.05606 152.75455 152.84671]]\n",
      "[[15277 14605 15636 15019]\n",
      " [14583 15165 15604 15763]\n",
      " [15447 14685 15034 15604]\n",
      " [15590 15936 15687 15881]\n",
      " [15351 15975 15019 15803]]\n",
      "[[15077 14753 15544 15547]\n",
      " [15975 15854 15803 14799]\n",
      " [15402 13901 15209 14022]\n",
      " [15868 15297 15227 15485]\n",
      " [15818 15655 15778 15887]]\n"
     ]
    }
   ],
   "source": [
    "# k é o número de vetores que serão retornados na busca\n",
    "k = 4                          # we want to see 4 nearest neighbors\n",
    "\n",
    "# teste de sanidade do banco\n",
    "D, I = index.search(xb[:5], k) # sanity check\n",
    "print(I)\n",
    "print(D)\n",
    "\n",
    "# busca propriamente dita\n",
    "D, I = index.search(xq, k)     # actual search\n",
    "print(I[:5])                   # neighbors of the 5 first queries\n",
    "print(I[-5:])                  # neighbors of the 5 last queries\n",
    "\n",
    "# I é uma matriz inteira de tamanho nq x k, onde a linha i contém os IDs dos k vizinhos do vetor de consulta i,\n",
    "# ordenados por distância crescente\n",
    "\n",
    "# D é uma matriz de ponto flutuante nq x k com as distâncias quadráticas correspondentes"
   ]
  },
  {
   "cell_type": "markdown",
   "id": "9bbc9e08",
   "metadata": {},
   "source": [
    "Para realizar uma pesquisa semântica com termos de pesquisa em uma base de jurisprudência do TCU, você provavelmente deseja utilizar um tipo de índice que seja eficiente para calcular similaridades entre os vetores que representam os documentos da jurisprudência e os vetores que representam os termos de pesquisa.\n",
    "\n",
    "O Faiss oferece vários tipos de índices que podem ser adequados para essa tarefa, dependendo das características específicas do seu conjunto de dados e das necessidades da sua aplicação. Aqui estão algumas sugestões:\n",
    "\n",
    "IndexFlatL2: Este é o tipo mais simples de índice e pode ser uma escolha adequada se você estiver lidando com um conjunto de dados relativamente pequeno e a eficiência não for uma preocupação principal. No entanto, se você estiver trabalhando com uma base de jurisprudência grande, o IndexFlatL2 pode não ser a melhor escolha devido à sua complexidade de busca linear.\n",
    "\n",
    "IndexIVFFlat: Este é um tipo de índice que divide o espaço de vetores em células usando quantização vetorial e usa a busca aproximada dentro de cada célula para acelerar a busca. Pode ser uma boa opção se você estiver lidando com um conjunto de dados grande e quiser equilibrar eficiência e precisão.\n",
    "\n",
    "IndexHNSWFlat: Este é um tipo de índice que constrói uma estrutura de vizinhança hierárquica esparsa (HNSW) para acelerar a busca de vizinhos mais próximos. Pode ser uma escolha adequada se a eficiência de busca for uma prioridade e você estiver disposto a sacrificar um pouco de precisão em troca de velocidade.\n",
    "\n",
    "IndexIDMap + IndexLSH: Esta é uma combinação de índices onde o IndexIDMap armazena os vetores e seus IDs correspondentes, enquanto o IndexLSH é usado para acelerar a busca aproximada. Pode ser uma boa opção se você estiver lidando com um conjunto de dados grande e quiser uma solução simples e eficiente.\n",
    "\n",
    "IndexPQ: Este é um tipo de índice que usa quantização de produto para acelerar a busca aproximada. Pode ser uma escolha adequada se você estiver lidando com um conjunto de dados grande e quiser uma solução eficiente em termos de memória e tempo de busca.\n",
    "\n",
    "A escolha do tipo de índice depende de vários fatores, como o tamanho do conjunto de dados, os requisitos de eficiência de busca e a precisão desejada. Você pode experimentar diferentes tipos de índices e ajustar os parâmetros conforme necessário para encontrar a melhor solução para o seu caso de uso específico."
   ]
  }
 ],
 "metadata": {
  "kernelspec": {
   "display_name": "Python 3 (ipykernel)",
   "language": "python",
   "name": "python3"
  },
  "language_info": {
   "codemirror_mode": {
    "name": "ipython",
    "version": 3
   },
   "file_extension": ".py",
   "mimetype": "text/x-python",
   "name": "python",
   "nbconvert_exporter": "python",
   "pygments_lexer": "ipython3",
   "version": "3.11.5"
  }
 },
 "nbformat": 4,
 "nbformat_minor": 5
}
